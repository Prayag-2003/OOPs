{
  "nbformat": 4,
  "nbformat_minor": 0,
  "metadata": {
    "colab": {
      "provenance": []
    },
    "kernelspec": {
      "name": "python3",
      "display_name": "Python 3"
    },
    "language_info": {
      "name": "python"
    }
  },
  "cells": [
    {
      "cell_type": "markdown",
      "source": [
        "**THEORY QUESTIONS**"
      ],
      "metadata": {
        "id": "wzWy1GVVfSQL"
      }
    },
    {
      "cell_type": "markdown",
      "source": [
        "1. What is Object-Oriented Programming (OOP)?\n",
        " - Object-Oriented Programming (OOP) is a way of writing programs where we use \"objects\" to represent things in the real world."
      ],
      "metadata": {
        "id": "J673JMigOekJ"
      }
    },
    {
      "cell_type": "markdown",
      "source": [
        "2. What is a class in OOP?\n",
        " - A class is like a blueprint or a template used to create things called objects."
      ],
      "metadata": {
        "id": "JYjbpwPwPKTm"
      }
    },
    {
      "cell_type": "markdown",
      "source": [
        "3. What is an object in OOP?\n",
        " - If a class is the blueprint, then an object is the actual thing built from that blueprint."
      ],
      "metadata": {
        "id": "5Tp69Hz_PYXN"
      }
    },
    {
      "cell_type": "markdown",
      "source": [
        "4. What is the difference between abstraction and encapsulation?\n",
        " - Abstraction means hiding the complex details and showing only the essential parts to the user. It helps you focus on what an object does instead of how it does it.\n",
        " - Encapsulation means hiding the internal data of an object and protecting it from outside access.It helps keep the data safe by using private variables and allowing access only through public methods."
      ],
      "metadata": {
        "id": "OEVhtsnDPnAk"
      }
    },
    {
      "cell_type": "markdown",
      "source": [
        "5. What are dunder methods in Python?\n",
        "- __init__(self, ...): This method is called when an instance of the class is initialized. It is used to initialize instance variables and perform any setup required for the object.\n",
        "- __str__(self): This method is called when the str() function is used on an instance of the class. It should return a string representation of the object.\n",
        "- __repr__(self): This method is called when the repr() function is used on an instance of the class. It should return an unambiguous string representation of the object, which can be used to recreate the\n",
        "object.\n",
        "- __add__(self, other):This method is called when the + operator is used with instances of the class. It should return the result of addition.\n",
        "- __eq__(self, other): This method is called when the == operator is used with instances of the class. It should return True if the objects are considered equal, False otherwise."
      ],
      "metadata": {
        "id": "7jan5t42Qkyg"
      }
    },
    {
      "cell_type": "markdown",
      "source": [
        "6. Explain the concept of inheritance in OOP.\n",
        " - Inheritance plays a significant role in an object-oriented programming language. Inheritance in Python refers to the process of a child class receiving the parent class's properties.\n",
        "The reuse of code is inheritance's main goal. Instead of starting from scratch when developing a new class, we can use the existing class instead of re-creating it from scratch"
      ],
      "metadata": {
        "id": "Q6s6sAziRkN4"
      }
    },
    {
      "cell_type": "markdown",
      "source": [],
      "metadata": {
        "id": "LZDPS6BFRVnO"
      }
    },
    {
      "cell_type": "markdown",
      "source": [
        "7. What is polymorphism in OOP?\n",
        " - In OOP, polymorphism refers to an object's capacity to assume several forms.Simply said, polymorphism enables us to carry out a single activity in a variety of ways. From the Greek words poly (many) and morphism (forms), we get polymorphism. Polymorphism is the\n",
        "capacity to assume several shapes."
      ],
      "metadata": {
        "id": "ITzh1t6STM-D"
      }
    },
    {
      "cell_type": "markdown",
      "source": [
        "8. How is encapsulation achieved in Python?\n",
        "- Method overloading : Method overloading is the practice of invoking the same method more thanonce with different parameters. Method overloading is not supported by Python. Even if you overload the\n",
        "method, Python only takes into account the most recent definition. If you overload a method in Python, a TypeError will be raised.\n",
        "- Method overriding:\n",
        " - In Python, method overriding is the process of providing a different implementation for a method that is already defined in the superclass within a subclass. It enables the subclass to define its own version of a method with the same name and parameters as the method in the superclass. When a method is overridden, the subclass implements the method in its own way, which overrides the behaviour defined in the superclass. The subclass can then alter or expand the functionality of the inherited method.\n",
        " - The name, parameters, and return type of the overridden method in the subclass must match those of the\n",
        "method in the superclass. Method overriding occurs only when the subclass has a method with the same\n",
        "name and signature as the superclass method.\n",
        " - When a subclass object is used to call the overridden method during runtime, the subclass implementation is\n",
        "invoked rather than the superclass implementation. A crucial element of polymorphism is the dynamic\n",
        "dispatch of methods based on the actual object type."
      ],
      "metadata": {
        "id": "7R5WIXc2Tf7Z"
      }
    },
    {
      "cell_type": "markdown",
      "source": [
        "9. What is a constructor in Python?\n",
        "- A constructor is a particular method used in object-oriented programming to generate and initialise an object of a class. In the class, this method is defined. When an object is created, the constructor is automatically run.Declaring and initialising a class's instance and data member variables is the main function of the constructor. An object's attributes are initialised by the constructor, which is a collection of statements (i.e., instructions) that run when an object is created."
      ],
      "metadata": {
        "id": "PozJrmIBUUpj"
      }
    },
    {
      "cell_type": "markdown",
      "source": [
        "10. What are class and static methods in Python?\n",
        "- Class:The class is a user-defined data structure that combines the methods and data members into a single\n",
        "entity. For the production of objects, classes serve as blueprints or code templates. You can make as many\n",
        "objects as you desire using a class.\n",
        "- Static Method:It is a general utility method that handles a single task. Since this method is static and\n",
        "doesn't have access to class attributes, we don't use instance or class variables within it."
      ],
      "metadata": {
        "id": "E8gee9l7Uzzm"
      }
    },
    {
      "cell_type": "markdown",
      "source": [
        "11. What is method overloading in Python?\n",
        "- Method overloading : Method overloading is the practice of invoking the same method more thanonce with different parameters. Method overloading is not supported by Python. Even if you overload the method, Python only takes into account the most recent definition. If you overload a method in Python, a TypeError will be raised.\n"
      ],
      "metadata": {
        "id": "8ksvSaV0VV1n"
      }
    },
    {
      "cell_type": "markdown",
      "source": [
        "12. What is method overriding in OOP?\n",
        "- Method overriding:\n",
        " - In Python, method overriding is the process of providing a different implementation for a method that is already defined in the superclass within a subclass. It enables the subclass to define its own version of a method with the same name and parameters as the method in the superclass. When a method is overridden, the subclass implements the method in its own way, which overrides the behaviour defined in the superclass. The subclass can then alter or expand the functionality of the inherited method.\n",
        " - The name, parameters, and return type of the overridden method in the subclass must match those of the method in the superclass. Method overriding occurs only when the subclass has a method with the same name and signature as the superclass method.\n",
        " - When a subclass object is used to call the overridden method during runtime, the subclass implementation is invoked rather than the superclass implementation. A crucial element of polymorphism is the dynamic dispatch of methods based on the actual object type."
      ],
      "metadata": {
        "id": "s8XHCDKsWJzf"
      }
    },
    {
      "cell_type": "markdown",
      "source": [
        "13. What is a property decorator in Python?\n",
        "- Imagine you have a class representing a circle, and you want to calculate its area based on its radius. But you\n",
        "don't want users to directly access the radius attribute; instead, you want them to call a method that computes\n",
        "and returns the area."
      ],
      "metadata": {
        "id": "vQtJfN0KWXfv"
      }
    },
    {
      "cell_type": "markdown",
      "source": [
        "14. Why is polymorphism important in OOP?\n",
        "- Polymorphism is a core concept in Object-Oriented Programming (OOP) that enables objects of different classes to be treated as objects of a common superclass. It allows for a single interface to represent different underlying forms (data types). Here are a few reasons why polymorphism is important:\n",
        " - Code Reusability\n",
        " - Extensibility\n",
        " - Flexibility and Maintainability\n",
        " - Improved Testing\n",
        " - Dynamic Behavior\n",
        " - Cleaner and More Expressive Code"
      ],
      "metadata": {
        "id": "yhZq_JZ8XGCF"
      }
    },
    {
      "cell_type": "markdown",
      "source": [
        "15. What is an abstract class in Python?\n",
        "- To declare an Abstract class, we firstly need to import the abc module. Let us look at an example.\n",
        "  - ![image.png](data:image/png;base64,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)\n",
        "  - Here, abs_class is the abstract class inside which abstract methods or any other sort of methods can be\n",
        "defined.\n",
        "  - As a property, abstract classes can have any number of abstract methods coexisting with any number of other\n",
        "methods."
      ],
      "metadata": {
        "id": "f4vbTPzIYHok"
      }
    },
    {
      "cell_type": "markdown",
      "source": [
        "16. What are the advantages of OOP?\n",
        " - Object-Oriented Programming (OOP) enhances code by promoting modularity, reusability, and maintainability, making it easier to debug and extend. It improves scalability and simplifies interactions through abstraction and encapsulation, while polymorphism allows flexibility with different object types. OOP closely models real-world entities, facilitates collaboration in large teams, and improves testing and code maintenance."
      ],
      "metadata": {
        "id": "sfiESuWlYwg4"
      }
    },
    {
      "cell_type": "markdown",
      "source": [
        "17.  What is the difference between a class variable and an instance variable?\n",
        "- Instance variables: Instance variables are properties that are joined to a class instance. In the\n",
        "constructor (the class's init() method), we define instance variables.\n",
        "- Class Variables: A variable that is declared inside a class but outside of any instance methods or init()\n",
        "methods is referred to as a class variable."
      ],
      "metadata": {
        "id": "-XvcgceGZLCt"
      }
    },
    {
      "cell_type": "markdown",
      "source": [
        "18. What is multiple inheritance in Python?\n",
        "- One child class may inherit from several parent classes when there is multiple inheritance.\n",
        "- Multiple inheritance allows classes to inherit and combine the behavior of multiple parent classes, providing\n",
        "flexibility in designing complex class hierarchies. However, it's important to carefully consider the design and\n",
        "potential complexities that can arise when using multiple inheritance.\n"
      ],
      "metadata": {
        "id": "1N40_urxZimR"
      }
    },
    {
      "cell_type": "markdown",
      "source": [
        "19. Explain the purpose of \"__str__' and '__repr__\" methods in Python?\n",
        "- str(self): This method is called when the str() function is used on an instance of the class. It should return a string representation of the object.\n",
        "- repr(self): This method is called when the repr() function is used on an instance of the class. It should return an unambiguous string representation of the object, which can be used to recreate the object."
      ],
      "metadata": {
        "id": "u302qoqfZ8Ck"
      }
    },
    {
      "cell_type": "markdown",
      "source": [
        "20.  What is the significance of the 'super()' function in Python?\n",
        "- super() provides an efficient way to access parent class functionality, supports multiple inheritance, and helps maintain cleaner and more maintainable code."
      ],
      "metadata": {
        "id": "IrwFyoXRaSTb"
      }
    },
    {
      "cell_type": "markdown",
      "source": [
        "21.  What is the significance of the __del__ method in Python?\n",
        "-   __del__ is significant for custom cleanup of resources when objects are destroyed, but it requires careful handling in complex systems."
      ],
      "metadata": {
        "id": "8g_hK8fFbwJV"
      }
    },
    {
      "cell_type": "markdown",
      "source": [
        "22. What is the difference between @staticmethod and @classmethod in Python?\n",
        "- A @staticmethod is a method that does not take any special first argument (like self or cls). It behaves like a regular function but belongs to the class’s namespace.\n",
        "- A @classmethod takes the class itself as its first argument, usually named cls. This allows the method to access and modify the class state (but not the instance state)."
      ],
      "metadata": {
        "id": "-1DEpn4ScVbH"
      }
    },
    {
      "cell_type": "markdown",
      "source": [
        "23. How does polymorphism work in Python with inheritance?\n",
        "- Method overloading : Method overloading is the practice of invoking the same method more thanonce with different parameters. Method overloading is not supported by Python. Even if you overload the method, Python only takes into account the most recent definition. If you overload a method in Python, a TypeError will be raised.\n",
        "- Method overriding:\n",
        " - In Python, method overriding is the process of providing a different implementation for a method that is already defined in the superclass within a subclass. It enables the subclass to define its own version of a method with the same name and parameters as the method in the superclass. When a method is overridden, the subclass implements the method in its own way, which overrides the behaviour defined in the superclass. The subclass can then alter or expand the functionality of the inherited method.\n",
        " - The name, parameters, and return type of the overridden method in the subclass must match those of the method in the superclass. Method overriding occurs only when the subclass has a method with the same name and signature as the superclass method.\n",
        " - When a subclass object is used to call the overridden method during runtime, the subclass implementation is invoked rather than the superclass implementation. A crucial element of polymorphism is the dynamic dispatch of methods based on the actual object type."
      ],
      "metadata": {
        "id": "yHoJ0sVCdMXp"
      }
    },
    {
      "cell_type": "markdown",
      "source": [
        "24.  What is method chaining in Python OOP?\n",
        "- Method chaining in Python (or in Object-Oriented Programming in general) refers to the practice of calling multiple methods on the same object, one after the other, in a single statement. This is made possible by having each method return the object itself (usually self), allowing you to chain additional method calls directly onto the returned object."
      ],
      "metadata": {
        "id": "QIvZN_4Bdtsj"
      }
    },
    {
      "cell_type": "markdown",
      "source": [
        "25. What is the purpose of the __call__ method in Python?\n",
        "- Class methods are often used to create utility functions that perform operations related to the\n",
        "class but don't depend on specific instance data."
      ],
      "metadata": {
        "id": "0DzYsCRsen65"
      }
    },
    {
      "cell_type": "markdown",
      "source": [
        "**PRACTICAL QUESTIONS**"
      ],
      "metadata": {
        "id": "T-64v0UIffHF"
      }
    },
    {
      "cell_type": "code",
      "source": [
        "#1. Create a parent class Animal with a method speak() that prints a generic message. Create a child class Dog that overrides the speak() method to print \"Bark!\".\n",
        "class Animal:\n",
        "    def speak(self):\n",
        "        print(\"The animal makes a sound\")\n",
        "class Dog(Animal):\n",
        "    def speak(self):\n",
        "        print(\"Bark!\")\n",
        "animal = Animal()\n",
        "dog = Dog()\n",
        "animal.speak()\n",
        "dog.speak()\n"
      ],
      "metadata": {
        "colab": {
          "base_uri": "https://localhost:8080/"
        },
        "id": "4fvvuT9YfQpW",
        "outputId": "471e33f0-0fa2-44c4-eb5d-f1474a4555c1"
      },
      "execution_count": 3,
      "outputs": [
        {
          "output_type": "stream",
          "name": "stdout",
          "text": [
            "The animal makes a sound\n",
            "Bark!\n"
          ]
        }
      ]
    },
    {
      "cell_type": "code",
      "source": [
        "#2. Write a program to create an abstract class Shape with a method area(). Derive classes Circle and Rectanglefrom it and implement the area() method in both.\n",
        "from abc import ABC, abstractmethod\n",
        "class Shape(ABC):\n",
        "    @abstractmethod\n",
        "    def area(self):\n",
        "        pass\n",
        "class Circle(Shape):\n",
        "    def __init__(self, radius):\n",
        "        self.radius = radius\n",
        "    def area(self):\n",
        "        return 3.14 * self.radius ** 2\n",
        "class Rectangle(Shape):\n",
        "    def __init__(self, width, height):\n",
        "        self.width = width\n",
        "        self.height = height\n",
        "    def area(self):\n",
        "        return self.width * self.height\n",
        "circle = Circle(5)\n",
        "rectangle = Rectangle(4, 6)\n",
        "print(\"Area of Circle:\", circle.area())\n",
        "print(\"Area of Rectangle:\", rectangle.area())\n"
      ],
      "metadata": {
        "colab": {
          "base_uri": "https://localhost:8080/"
        },
        "id": "aZUMO4fugmCy",
        "outputId": "f43a81d7-821a-4631-e16e-ed1bf6eadfcc"
      },
      "execution_count": 4,
      "outputs": [
        {
          "output_type": "stream",
          "name": "stdout",
          "text": [
            "Area of Circle: 78.5\n",
            "Area of Rectangle: 24\n"
          ]
        }
      ]
    },
    {
      "cell_type": "code",
      "source": [
        "#3. Implement a multi-level inheritance scenario where a class Vehicle has an attribute type. Derive a class Car and further derive a class ElectricCar that adds a battery attribute.\n",
        "class Vehicle:\n",
        "    def __init__(self, type):\n",
        "        self.type = type\n",
        "    def display_type(self):\n",
        "        print(f\"Vehicle type: {self.type}\")\n",
        "class Car(Vehicle):\n",
        "    def __init__(self, type, brand):\n",
        "        super().__init__(type)\n",
        "        self.brand = brand\n",
        "    def display_brand(self):\n",
        "        print(f\"Car brand: {self.brand}\")\n",
        "class ElectricCar(Car):\n",
        "    def __init__(self, type, brand, battery):\n",
        "        super().__init__(type, brand)\n",
        "        self.battery = battery\n",
        "    def display_battery(self):\n",
        "        print(f\"Battery type: {self.battery}\")\n",
        "electric_car = ElectricCar(\"Electric\", \"Tesla\", \"Lithium-Ion\")\n",
        "electric_car.display_type()\n",
        "electric_car.display_brand()\n",
        "electric_car.display_battery()\n"
      ],
      "metadata": {
        "colab": {
          "base_uri": "https://localhost:8080/"
        },
        "id": "sl_AUT2qhVaG",
        "outputId": "5e705381-ea8d-4f0c-f3de-3a22b1f11dd9"
      },
      "execution_count": 8,
      "outputs": [
        {
          "output_type": "stream",
          "name": "stdout",
          "text": [
            "Vehicle type: Electric\n",
            "Car brand: Tesla\n",
            "Battery type: Lithium-Ion\n"
          ]
        }
      ]
    },
    {
      "cell_type": "code",
      "source": [
        "#4. Demonstrate polymorphism by creating a base class Bird with a method fly(). Create two derived classes Sparrow and Penguin that override the fly() method.\n",
        "class Bird:\n",
        "    def fly(self):\n",
        "        print(\"Bird is flying\")\n",
        "class Sparrow(Bird):\n",
        "    def fly(self):\n",
        "        print(\"Sparrow is flying\")\n",
        "class Penguin(Bird):\n",
        "    def fly(self):\n",
        "        print(\"Penguins cannot fly\")\n",
        "def make_bird_fly(bird):\n",
        "    bird.fly()\n",
        "sparrow = Sparrow()\n",
        "penguin = Penguin()\n",
        "make_bird_fly(sparrow)\n",
        "make_bird_fly(penguin)\n"
      ],
      "metadata": {
        "colab": {
          "base_uri": "https://localhost:8080/"
        },
        "id": "tc8GZbNIjP8Y",
        "outputId": "6014f4e0-5a7b-4a4f-84ed-957b3d8c0794"
      },
      "execution_count": 9,
      "outputs": [
        {
          "output_type": "stream",
          "name": "stdout",
          "text": [
            "Sparrow is flying\n",
            "Penguins cannot fly\n"
          ]
        }
      ]
    },
    {
      "cell_type": "code",
      "source": [
        "#5. Write a program to demonstrate encapsulation by creating a class BankAccount with private attributes balance and methods to deposit, withdraw, and check balance.\n",
        "class BankAccount:\n",
        "    def __init__(self, initial_balance=0):\n",
        "        self._balance = initial_balance\n",
        "    def deposit(self, amount):\n",
        "        if amount > 0:\n",
        "            self._balance += amount\n",
        "            print(f\"Deposited: ${amount}\")\n",
        "        else:\n",
        "            print(\"Deposit amount must be positive.\")\n",
        "    def withdraw(self, amount):\n",
        "        if amount > 0:\n",
        "            if amount <= self._balance:\n",
        "                self._balance -= amount\n",
        "                print(f\"Withdrawn: ${amount}\")\n",
        "            else:\n",
        "                print(\"Insufficient balance.\")\n",
        "        else:\n",
        "            print(\"Withdrawal amount must be positive.\")\n",
        "    def get_balance(self):\n",
        "        return self._balance\n",
        "account = BankAccount(1000)\n",
        "account.deposit(500)\n",
        "account.withdraw(200)\n",
        "print(f\"Current Balance: ${account.get_balance()}\")\n",
        "account.deposit(-100)\n",
        "account.withdraw(1500)\n"
      ],
      "metadata": {
        "colab": {
          "base_uri": "https://localhost:8080/"
        },
        "id": "BojkgYW0jmuC",
        "outputId": "c1ef406b-c182-45c9-eb2a-91817ffbfda6"
      },
      "execution_count": 10,
      "outputs": [
        {
          "output_type": "stream",
          "name": "stdout",
          "text": [
            "Deposited: $500\n",
            "Withdrawn: $200\n",
            "Current Balance: $1300\n",
            "Deposit amount must be positive.\n",
            "Insufficient balance.\n"
          ]
        }
      ]
    },
    {
      "cell_type": "code",
      "source": [
        "#6. Demonstrate runtime polymorphism using a method play() in a base class Instrument. Derive classes Guitar and Piano that implement their own version of play().\n",
        "class Instrument:\n",
        "    def play(self):\n",
        "        print(\"Playing an instrument\")\n",
        "class Guitar(Instrument):\n",
        "    def play(self):\n",
        "        print(\"Playing the guitar\")\n",
        "class Piano(Instrument):\n",
        "    def play(self):\n",
        "        print(\"Playing the piano\")\n",
        "def perform_play(instrument):\n",
        "    instrument.play()\n",
        "guitar = Guitar()\n",
        "piano = Piano()\n",
        "perform_play(guitar)\n",
        "perform_play(piano)\n"
      ],
      "metadata": {
        "colab": {
          "base_uri": "https://localhost:8080/"
        },
        "id": "ervoOWFgkC3n",
        "outputId": "75b8db62-460a-4067-84ce-765ae5df0d18"
      },
      "execution_count": 11,
      "outputs": [
        {
          "output_type": "stream",
          "name": "stdout",
          "text": [
            "Playing the guitar\n",
            "Playing the piano\n"
          ]
        }
      ]
    },
    {
      "cell_type": "code",
      "source": [
        "#7. Create a class MathOperations with a class method add_numbers() to add two numbers and a static method subtract_numbers() to subtract two numbers.\n",
        "class MathOperations:\n",
        "    @classmethod\n",
        "    def add_numbers(cls, num1, num2):\n",
        "        return num1 + num2\n",
        "    @staticmethod\n",
        "    def subtract_numbers(num1, num2):\n",
        "        return num1 - num2\n",
        "sum_result = MathOperations.add_numbers(10, 5)\n",
        "print(f\"Sum: {sum_result}\")\n",
        "difference_result = MathOperations.subtract_numbers(10, 5)\n",
        "print(f\"Difference: {difference_result}\")\n"
      ],
      "metadata": {
        "colab": {
          "base_uri": "https://localhost:8080/"
        },
        "id": "P1jF-cg5kcKG",
        "outputId": "c35dc7d6-c30a-4f1b-e55e-5ed7ffa2a330"
      },
      "execution_count": 12,
      "outputs": [
        {
          "output_type": "stream",
          "name": "stdout",
          "text": [
            "Sum: 15\n",
            "Difference: 5\n"
          ]
        }
      ]
    },
    {
      "cell_type": "code",
      "source": [
        "#8. Implement a class Person with a class method to count the total number of persons created.\n",
        "class Person:\n",
        "    total_persons = 0\n",
        "    def __init__(self, name, age):\n",
        "        self.name = name\n",
        "        self.age = age\n",
        "        Person.total_persons += 1\n",
        "    @classmethod\n",
        "    def get_total_persons(cls):\n",
        "        return cls.total_persons\n",
        "person1 = Person(\"Prayag\", 21)\n",
        "person2 = Person(\"Anurag\", 25)\n",
        "person3 = Person(\"Adarsh\", 24)\n",
        "print(f\"Total persons created: {Person.get_total_persons()}\")"
      ],
      "metadata": {
        "colab": {
          "base_uri": "https://localhost:8080/"
        },
        "id": "mn8hoNrKlJk6",
        "outputId": "ba0629ad-53b1-4d88-c2aa-10ad6b4687bf"
      },
      "execution_count": 14,
      "outputs": [
        {
          "output_type": "stream",
          "name": "stdout",
          "text": [
            "Total persons created: 3\n"
          ]
        }
      ]
    },
    {
      "cell_type": "code",
      "source": [
        "#9. Write a class Fraction with attributes numerator and denominator. Override the str method to display the fraction as \"numerator/denominator\".\n",
        "class Fraction:\n",
        "    def __init__(self, numerator, denominator):\n",
        "        self.numerator = numerator\n",
        "        self.denominator = denominator\n",
        "    def __str__(self):\n",
        "        return f\"{self.numerator}/{self.denominator}\"\n",
        "fraction = Fraction(15, 3)\n",
        "print(fraction)"
      ],
      "metadata": {
        "colab": {
          "base_uri": "https://localhost:8080/"
        },
        "id": "7MfFIYY5lq4y",
        "outputId": "4043c49a-54d4-48c4-9fcb-3f2164c40618"
      },
      "execution_count": 16,
      "outputs": [
        {
          "output_type": "stream",
          "name": "stdout",
          "text": [
            "15/3\n"
          ]
        }
      ]
    },
    {
      "cell_type": "code",
      "source": [
        "#10. Demonstrate operator overloading by creating a class Vector and overriding the add method to add two vectors.\n",
        "class Vector:\n",
        "    def __init__(self, x, y):\n",
        "        self.x = x\n",
        "        self.y = y\n",
        "    def __add__(self, other):\n",
        "        return Vector(self.x + other.x, self.y + other.y)\n",
        "    def __str__(self):\n",
        "        return f\"({self.x}, {self.y})\"\n",
        "vector1 = Vector(3, 4)\n",
        "vector2 = Vector(1, 2)\n",
        "result_vector = vector1 + vector2\n",
        "print(f\"Result of adding vectors: {result_vector}\")"
      ],
      "metadata": {
        "colab": {
          "base_uri": "https://localhost:8080/"
        },
        "id": "NLNLQXzyl8go",
        "outputId": "3cff1a2a-c882-471c-912a-7e7d32ab11fb"
      },
      "execution_count": 17,
      "outputs": [
        {
          "output_type": "stream",
          "name": "stdout",
          "text": [
            "Result of adding vectors: (4, 6)\n"
          ]
        }
      ]
    },
    {
      "cell_type": "code",
      "source": [
        "#11. Create a class Person with attributes name and age. Add a method greet() that prints \"Hello, my name is {name} and I am {age} years old.\"\n",
        "class Person:\n",
        "    def __init__(self, name, age):\n",
        "        self.name = name\n",
        "        self.age = age\n",
        "    def greet(self):\n",
        "        print(f\"Hello, my name is {self.name} and I am {self.age} years old.\")\n",
        "person = Person(\"Prayag\", 21)\n",
        "person.greet()"
      ],
      "metadata": {
        "colab": {
          "base_uri": "https://localhost:8080/"
        },
        "id": "bKJ9rvm1mQ02",
        "outputId": "0abc1958-c5a1-47c3-a5e8-e417922d9bdc"
      },
      "execution_count": 19,
      "outputs": [
        {
          "output_type": "stream",
          "name": "stdout",
          "text": [
            "Hello, my name is Prayag and I am 21 years old.\n"
          ]
        }
      ]
    },
    {
      "cell_type": "code",
      "source": [
        "#12. Implement a class Student with attributes name and grades. Create a method average_grade() to compute the average of the grades.\n",
        "class Student:\n",
        "    def __init__(self, name, grades):\n",
        "        self.name = name\n",
        "        self.grades = grades\n",
        "    def average_grade(self):\n",
        "        return sum(self.grades) / len(self.grades) if self.grades else 0\n",
        "student = Student(\"Prayag\", [85, 90, 78, 92, 88])\n",
        "avg_grade = student.average_grade()\n",
        "print(f\"{student.name}'s average grade is: {avg_grade}\")"
      ],
      "metadata": {
        "colab": {
          "base_uri": "https://localhost:8080/"
        },
        "id": "Vr6_Bp0Emx48",
        "outputId": "764f4b13-a75b-4028-e4af-17acd0236be5"
      },
      "execution_count": 21,
      "outputs": [
        {
          "output_type": "stream",
          "name": "stdout",
          "text": [
            "Prayag's average grade is: 86.6\n"
          ]
        }
      ]
    },
    {
      "cell_type": "code",
      "source": [
        "#13. Create a class Rectangle with methods set_dimensions() to set the dimensions and area() to calculate the area.\n",
        "class Rectangle:\n",
        "    def __init__(self):\n",
        "        self.width = 0\n",
        "        self.height = 0\n",
        "    def set_dimensions(self, width, height):\n",
        "        self.width = width\n",
        "        self.height = height\n",
        "    def area(self):\n",
        "        return self.width * self.height\n",
        "rectangle = Rectangle()\n",
        "rectangle.set_dimensions(5, 10)\n",
        "area_of_rectangle = rectangle.area()\n",
        "print(f\"The area of the rectangle is: {area_of_rectangle}\")"
      ],
      "metadata": {
        "colab": {
          "base_uri": "https://localhost:8080/"
        },
        "id": "1oN2m8C8nJlI",
        "outputId": "c7d46d0f-8a69-44bb-84be-b8ea1dcaa880"
      },
      "execution_count": 22,
      "outputs": [
        {
          "output_type": "stream",
          "name": "stdout",
          "text": [
            "The area of the rectangle is: 50\n"
          ]
        }
      ]
    },
    {
      "cell_type": "code",
      "source": [
        "#14. Create a class Employee with a method calculate_salary() that computes the salary based on hours worked and hourly rate. Create a derived class Manager that adds a bonus to the salary.\n",
        "class Employee:\n",
        "    def __init__(self, name, hours_worked, hourly_rate):\n",
        "        self.name = name\n",
        "        self.hours_worked = hours_worked\n",
        "        self.hourly_rate = hourly_rate\n",
        "    def calculate_salary(self):\n",
        "        return self.hours_worked * self.hourly_rate\n",
        "class Manager(Employee):\n",
        "    def __init__(self, name, hours_worked, hourly_rate, bonus):\n",
        "        super().__init__(name, hours_worked, hourly_rate)\n",
        "        self.bonus = bonus\n",
        "    def calculate_salary(self):\n",
        "        base_salary = super().calculate_salary()\n",
        "        return base_salary + self.bonus\n",
        "employee = Employee(\"Anurag\", 40, 20)\n",
        "employee_salary = employee.calculate_salary()\n",
        "print(f\"{employee.name}'s salary: ${employee_salary}\")\n",
        "manager = Manager(\"Prayag\", 40, 30, 500)\n",
        "manager_salary = manager.calculate_salary()\n",
        "print(f\"{manager.name}'s salary: ${manager_salary}\")"
      ],
      "metadata": {
        "colab": {
          "base_uri": "https://localhost:8080/"
        },
        "id": "kRZy5X15ncFX",
        "outputId": "970148f1-f409-4c6f-f19a-637a0ddbebad"
      },
      "execution_count": 24,
      "outputs": [
        {
          "output_type": "stream",
          "name": "stdout",
          "text": [
            "Anurag's salary: $800\n",
            "Prayag's salary: $1700\n"
          ]
        }
      ]
    },
    {
      "cell_type": "code",
      "source": [
        "#15. Create a class Product with attributes name, price, and quantity. Implement a method total_price() that calculates the total price of the product.\n",
        "class Product:\n",
        "    def __init__(self, name, price, quantity):\n",
        "        self.name = name\n",
        "        self.price = price\n",
        "        self.quantity = quantity\n",
        "    def total_price(self):\n",
        "        return self.price * self.quantity\n",
        "product = Product(\"Laptop\", 1000, 3)\n",
        "total_cost = product.total_price()\n",
        "print(f\"The total price of {product.quantity} {product.name}s is: ${total_cost}\")"
      ],
      "metadata": {
        "colab": {
          "base_uri": "https://localhost:8080/"
        },
        "id": "tTcltMK1n8HN",
        "outputId": "3d376f8d-13af-4a43-ab1f-04b92c02eed2"
      },
      "execution_count": 25,
      "outputs": [
        {
          "output_type": "stream",
          "name": "stdout",
          "text": [
            "The total price of 3 Laptops is: $3000\n"
          ]
        }
      ]
    },
    {
      "cell_type": "code",
      "source": [
        "#16. Create a class Animal with an abstract method sound(). Create two derived classes Cow and Sheep that implement the sound() method.\n",
        "from abc import ABC, abstractmethod\n",
        "class Animal(ABC):\n",
        "    @abstractmethod\n",
        "    def sound(self):\n",
        "        pass\n",
        "class Cow(Animal):\n",
        "    def sound(self):\n",
        "        return \"Moo\"\n",
        "class Sheep(Animal):\n",
        "    def sound(self):\n",
        "        return \"Baa\"\n",
        "cow = Cow()\n",
        "sheep = Sheep()\n",
        "print(f\"Cow sound: {cow.sound()}\")\n",
        "print(f\"Sheep sound: {sheep.sound()}\")"
      ],
      "metadata": {
        "colab": {
          "base_uri": "https://localhost:8080/"
        },
        "id": "qM3xvI0YoMJl",
        "outputId": "9979e825-109c-4ca9-fe22-8d5b899f25b8"
      },
      "execution_count": 26,
      "outputs": [
        {
          "output_type": "stream",
          "name": "stdout",
          "text": [
            "Cow sound: Moo\n",
            "Sheep sound: Baa\n"
          ]
        }
      ]
    },
    {
      "cell_type": "code",
      "source": [
        "#17. Create a class Book with attributes title, author, and year_published. Add a method get_book_info() that returns a formatted string with the book's details.\n",
        "class Book:\n",
        "    def __init__(self, title, author, year_published):\n",
        "        self.title = title\n",
        "        self.author = author\n",
        "        self.year_published = year_published\n",
        "    def get_book_info(self):\n",
        "        return f\"'{self.title}' by {self.author}, published in {self.year_published}\"\n",
        "book = Book(\"The King\", \"Prayag Singh\", 2021)\n",
        "book_info = book.get_book_info()\n",
        "print(book_info)"
      ],
      "metadata": {
        "colab": {
          "base_uri": "https://localhost:8080/"
        },
        "id": "ohoX4ld3obTm",
        "outputId": "cb669f82-7fe6-47ba-dc1c-e73c23d462fd"
      },
      "execution_count": 27,
      "outputs": [
        {
          "output_type": "stream",
          "name": "stdout",
          "text": [
            "'The King' by Prayag Singh, published in 2021\n"
          ]
        }
      ]
    },
    {
      "cell_type": "code",
      "source": [
        "#18. Create a class House with attributes address and price. Create a derived class Mansion that adds an attribute number_of_rooms.\n",
        "class House:\n",
        "    def __init__(self, address, price):\n",
        "        self.address = address\n",
        "        self.price = price\n",
        "    def get_details(self):\n",
        "        return f\"House located at {self.address} costs ${self.price}\"\n",
        "class Mansion(House):\n",
        "    def __init__(self, address, price, number_of_rooms):\n",
        "        # Initialize the base class (House)\n",
        "        super().__init__(address, price)\n",
        "        self.number_of_rooms = number_of_rooms\n",
        "    def get_details(self):\n",
        "        base_details = super().get_details()\n",
        "        return f\"{base_details}, and it has {self.number_of_rooms} rooms.\"\n",
        "house = House(\"123 Main St\", 250000)\n",
        "mansion = Mansion(\"456 Luxury Ave\", 5000000, 10)\n",
        "print(house.get_details())\n",
        "print(mansion.get_details())"
      ],
      "metadata": {
        "colab": {
          "base_uri": "https://localhost:8080/"
        },
        "id": "lifRbgjKo2AM",
        "outputId": "ef43bdc2-301d-4ff4-845b-826435ac733f"
      },
      "execution_count": 28,
      "outputs": [
        {
          "output_type": "stream",
          "name": "stdout",
          "text": [
            "House located at 123 Main St costs $250000\n",
            "House located at 456 Luxury Ave costs $5000000, and it has 10 rooms.\n"
          ]
        }
      ]
    }
  ]
}